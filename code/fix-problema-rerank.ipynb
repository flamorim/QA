{
 "cells": [
  {
   "cell_type": "code",
   "execution_count": 1,
   "metadata": {},
   "outputs": [],
   "source": [
    "import pickle\n",
    "import pandas as pd\n",
    "import os "
   ]
  },
  {
   "cell_type": "markdown",
   "metadata": {},
   "source": [
    "INICIO AQUI"
   ]
  },
  {
   "cell_type": "markdown",
   "metadata": {},
   "source": [
    "1) retriever improved001\n",
    "top10_flag_novo\n",
    "top50_flag_novo\n",
    "top100_flag_novo\n",
    "\n",
    "table_idx_gt\n",
    "top100_table_idx"
   ]
  },
  {
   "cell_type": "code",
   "execution_count": 201,
   "metadata": {},
   "outputs": [
    {
     "data": {
      "text/html": [
       "<div>\n",
       "<style scoped>\n",
       "    .dataframe tbody tr th:only-of-type {\n",
       "        vertical-align: middle;\n",
       "    }\n",
       "\n",
       "    .dataframe tbody tr th {\n",
       "        vertical-align: top;\n",
       "    }\n",
       "\n",
       "    .dataframe thead th {\n",
       "        text-align: right;\n",
       "    }\n",
       "</style>\n",
       "<table border=\"1\" class=\"dataframe\">\n",
       "  <thead>\n",
       "    <tr style=\"text-align: right;\">\n",
       "      <th></th>\n",
       "      <th>question_id</th>\n",
       "      <th>question_txt</th>\n",
       "      <th>table_uid_gt</th>\n",
       "      <th>answer_text_gt</th>\n",
       "      <th>question_postag</th>\n",
       "      <th>top100_table_idx</th>\n",
       "      <th>top100_table_score</th>\n",
       "      <th>table_idx_gt</th>\n",
       "      <th>table_url_gt</th>\n",
       "      <th>table_token_len_gt</th>\n",
       "      <th>...</th>\n",
       "      <th>top1_flag</th>\n",
       "      <th>top10_flag</th>\n",
       "      <th>top50_flag</th>\n",
       "      <th>top100_flag</th>\n",
       "      <th>tapex_answer_text</th>\n",
       "      <th>tapex_answer_tokens</th>\n",
       "      <th>tapex_top1_flag</th>\n",
       "      <th>tapas_answer_text</th>\n",
       "      <th>tapas_top1_flag</th>\n",
       "      <th>tapas_agg_string</th>\n",
       "    </tr>\n",
       "  </thead>\n",
       "  <tbody>\n",
       "    <tr>\n",
       "      <th>0</th>\n",
       "      <td>2b6359edb1b352c3</td>\n",
       "      <td>Who created the series in which the character ...</td>\n",
       "      <td>Nonso_Anozie_1</td>\n",
       "      <td>Lynda La Plante</td>\n",
       "      <td>WP VBD DT NN IN WDT DT NN IN NNP , VBN IN NN N...</td>\n",
       "      <td>[8838, 2246, 8432, 7233, 5561, 5716, 6335, 746...</td>\n",
       "      <td>[0.6345087289810181, 0.6341838240623474, 0.619...</td>\n",
       "      <td>8838</td>\n",
       "      <td>https://en.wikipedia.org/wiki/Nonso_Anozie</td>\n",
       "      <td>175</td>\n",
       "      <td>...</td>\n",
       "      <td>True</td>\n",
       "      <td>False</td>\n",
       "      <td>False</td>\n",
       "      <td>False</td>\n",
       "      <td>prime suspect 7</td>\n",
       "      <td>[['prime', 'suspect', '7']]</td>\n",
       "      <td>False</td>\n",
       "      <td>Episode : Part 1</td>\n",
       "      <td>False</td>\n",
       "      <td>['NONE']</td>\n",
       "    </tr>\n",
       "    <tr>\n",
       "      <th>1</th>\n",
       "      <td>1bd5ee91518dc589</td>\n",
       "      <td>What did the 2nd championship win at the Seven...</td>\n",
       "      <td>Sevens_Grand_prix_series_0</td>\n",
       "      <td>2016 Summer Olympics</td>\n",
       "      <td>WP VBD DT CD NN NN IN DT NNP NNP NNP NNP IN DT...</td>\n",
       "      <td>[3224, 4878, 8379, 8176, 3285, 6448, 1133, 838...</td>\n",
       "      <td>[0.5857019424438477, 0.536044716835022, 0.5201...</td>\n",
       "      <td>8494</td>\n",
       "      <td>https://en.wikipedia.org/wiki/Sevens_Grand_Pri...</td>\n",
       "      <td>55</td>\n",
       "      <td>...</td>\n",
       "      <td>False</td>\n",
       "      <td>False</td>\n",
       "      <td>False</td>\n",
       "      <td>False</td>\n",
       "      <td>12</td>\n",
       "      <td>[['12']]</td>\n",
       "      <td>False</td>\n",
       "      <td>-</td>\n",
       "      <td>False</td>\n",
       "      <td>['NONE']</td>\n",
       "    </tr>\n",
       "    <tr>\n",
       "      <th>2</th>\n",
       "      <td>b2fa6dea5e272acc</td>\n",
       "      <td>This 70 's Kishore Kumar song was in a film pr...</td>\n",
       "      <td>Kishore_Kumar_1</td>\n",
       "      <td>Main Pyaasa Tum</td>\n",
       "      <td>DT CD POS NNP NNP NN VBD IN DT NN VBN IN NNP N...</td>\n",
       "      <td>[3516, 7740, 3552, 6040, 5190, 6542, 7047, 107...</td>\n",
       "      <td>[0.7714517116546631, 0.7607235312461853, 0.760...</td>\n",
       "      <td>8205</td>\n",
       "      <td>https://en.wikipedia.org/wiki/Kishore_Kumar</td>\n",
       "      <td>429</td>\n",
       "      <td>...</td>\n",
       "      <td>False</td>\n",
       "      <td>True</td>\n",
       "      <td>False</td>\n",
       "      <td>False</td>\n",
       "      <td>ja ri bahena ja</td>\n",
       "      <td>[['ja', 'ri', 'bahena', 'ja']]</td>\n",
       "      <td>False</td>\n",
       "      <td>Trishul</td>\n",
       "      <td>False</td>\n",
       "      <td>['NONE']</td>\n",
       "    </tr>\n",
       "    <tr>\n",
       "      <th>3</th>\n",
       "      <td>24ae33636128ba03</td>\n",
       "      <td>What is the full birth name of the Bradford A....</td>\n",
       "      <td>Bradford_City_A.F.C._0</td>\n",
       "      <td>Guy Peter Bromley Branston</td>\n",
       "      <td>WP VBZ DT JJ NN NN IN DT NNP NNP NN IN RB VBN ...</td>\n",
       "      <td>[3970, 4652, 741, 1727, 675, 5861, 1687, 277, ...</td>\n",
       "      <td>[0.6504061222076416, 0.6408249139785767, 0.639...</td>\n",
       "      <td>8152</td>\n",
       "      <td>https://en.wikipedia.org/wiki/Bradford_City_A....</td>\n",
       "      <td>249</td>\n",
       "      <td>...</td>\n",
       "      <td>False</td>\n",
       "      <td>False</td>\n",
       "      <td>False</td>\n",
       "      <td>False</td>\n",
       "      <td>danny bridge</td>\n",
       "      <td>[['danny', 'bridge']]</td>\n",
       "      <td>False</td>\n",
       "      <td>COUNT &gt; Lee Gaskell</td>\n",
       "      <td>False</td>\n",
       "      <td>['COUNT']</td>\n",
       "    </tr>\n",
       "    <tr>\n",
       "      <th>4</th>\n",
       "      <td>25019a7623f4ad5e</td>\n",
       "      <td>How many academic staff are at the university ...</td>\n",
       "      <td>Budapest_0</td>\n",
       "      <td>961</td>\n",
       "      <td>WRB JJ JJ NN VBP IN DT NN IN NNP WDT VBZ DT JJ...</td>\n",
       "      <td>[8347, 6034, 2414, 2471, 5272, 6265, 2740, 299...</td>\n",
       "      <td>[0.7426620721817017, 0.544987678527832, 0.5303...</td>\n",
       "      <td>8347</td>\n",
       "      <td>https://en.wikipedia.org/wiki/Budapest</td>\n",
       "      <td>445</td>\n",
       "      <td>...</td>\n",
       "      <td>True</td>\n",
       "      <td>False</td>\n",
       "      <td>False</td>\n",
       "      <td>False</td>\n",
       "      <td>1144</td>\n",
       "      <td>[['1144']]</td>\n",
       "      <td>False</td>\n",
       "      <td>NaN</td>\n",
       "      <td>False</td>\n",
       "      <td>['NONE']</td>\n",
       "    </tr>\n",
       "  </tbody>\n",
       "</table>\n",
       "<p>5 rows × 23 columns</p>\n",
       "</div>"
      ],
      "text/plain": [
       "        question_id                                       question_txt  \\\n",
       "0  2b6359edb1b352c3  Who created the series in which the character ...   \n",
       "1  1bd5ee91518dc589  What did the 2nd championship win at the Seven...   \n",
       "2  b2fa6dea5e272acc  This 70 's Kishore Kumar song was in a film pr...   \n",
       "3  24ae33636128ba03  What is the full birth name of the Bradford A....   \n",
       "4  25019a7623f4ad5e  How many academic staff are at the university ...   \n",
       "\n",
       "                 table_uid_gt              answer_text_gt  \\\n",
       "0              Nonso_Anozie_1             Lynda La Plante   \n",
       "1  Sevens_Grand_prix_series_0        2016 Summer Olympics   \n",
       "2             Kishore_Kumar_1             Main Pyaasa Tum   \n",
       "3      Bradford_City_A.F.C._0  Guy Peter Bromley Branston   \n",
       "4                  Budapest_0                         961   \n",
       "\n",
       "                                     question_postag  \\\n",
       "0  WP VBD DT NN IN WDT DT NN IN NNP , VBN IN NN N...   \n",
       "1  WP VBD DT CD NN NN IN DT NNP NNP NNP NNP IN DT...   \n",
       "2  DT CD POS NNP NNP NN VBD IN DT NN VBN IN NNP N...   \n",
       "3  WP VBZ DT JJ NN NN IN DT NNP NNP NN IN RB VBN ...   \n",
       "4  WRB JJ JJ NN VBP IN DT NN IN NNP WDT VBZ DT JJ...   \n",
       "\n",
       "                                    top100_table_idx  \\\n",
       "0  [8838, 2246, 8432, 7233, 5561, 5716, 6335, 746...   \n",
       "1  [3224, 4878, 8379, 8176, 3285, 6448, 1133, 838...   \n",
       "2  [3516, 7740, 3552, 6040, 5190, 6542, 7047, 107...   \n",
       "3  [3970, 4652, 741, 1727, 675, 5861, 1687, 277, ...   \n",
       "4  [8347, 6034, 2414, 2471, 5272, 6265, 2740, 299...   \n",
       "\n",
       "                                  top100_table_score  table_idx_gt  \\\n",
       "0  [0.6345087289810181, 0.6341838240623474, 0.619...          8838   \n",
       "1  [0.5857019424438477, 0.536044716835022, 0.5201...          8494   \n",
       "2  [0.7714517116546631, 0.7607235312461853, 0.760...          8205   \n",
       "3  [0.6504061222076416, 0.6408249139785767, 0.639...          8152   \n",
       "4  [0.7426620721817017, 0.544987678527832, 0.5303...          8347   \n",
       "\n",
       "                                        table_url_gt  table_token_len_gt  ...  \\\n",
       "0         https://en.wikipedia.org/wiki/Nonso_Anozie                 175  ...   \n",
       "1  https://en.wikipedia.org/wiki/Sevens_Grand_Pri...                  55  ...   \n",
       "2        https://en.wikipedia.org/wiki/Kishore_Kumar                 429  ...   \n",
       "3  https://en.wikipedia.org/wiki/Bradford_City_A....                 249  ...   \n",
       "4             https://en.wikipedia.org/wiki/Budapest                 445  ...   \n",
       "\n",
       "  top1_flag top10_flag top50_flag  top100_flag  tapex_answer_text  \\\n",
       "0      True      False      False        False    prime suspect 7   \n",
       "1     False      False      False        False                 12   \n",
       "2     False       True      False        False    ja ri bahena ja   \n",
       "3     False      False      False        False       danny bridge   \n",
       "4      True      False      False        False               1144   \n",
       "\n",
       "              tapex_answer_tokens  tapex_top1_flag    tapas_answer_text  \\\n",
       "0     [['prime', 'suspect', '7']]            False     Episode : Part 1   \n",
       "1                        [['12']]            False                    -   \n",
       "2  [['ja', 'ri', 'bahena', 'ja']]            False              Trishul   \n",
       "3           [['danny', 'bridge']]            False  COUNT > Lee Gaskell   \n",
       "4                      [['1144']]            False                  NaN   \n",
       "\n",
       "  tapas_top1_flag  tapas_agg_string  \n",
       "0           False          ['NONE']  \n",
       "1           False          ['NONE']  \n",
       "2           False          ['NONE']  \n",
       "3           False         ['COUNT']  \n",
       "4           False          ['NONE']  \n",
       "\n",
       "[5 rows x 23 columns]"
      ]
     },
     "execution_count": 201,
     "metadata": {},
     "output_type": "execute_result"
    }
   ],
   "source": [
    "#file = '/data/ott-qa/retriever/improved001/mpnet_table_intro_embeddings_cpu_512_512.csv'\n",
    "\n",
    "file = '/data/ott-qa/reader_tapex_tapas/mpnet_table_embeddings_cpu_384_512.csv'\n",
    "\n",
    "df = pd.read_csv(file,sep=',', index_col=None)\n",
    "df.head()"
   ]
  },
  {
   "cell_type": "code",
   "execution_count": null,
   "metadata": {},
   "outputs": [],
   "source": [
    "\n",
    "\n",
    "for index, row in df.iterrows():\n",
    "    #print(f\"Index: {index}\")\n",
    "    gt =  row['table_uid_gt']\n",
    "    rrlist1 =  eval(row['rr_top100_table_uid'])[0:1]\n",
    "    rrlist10 =  eval(row['rr_top100_table_uid'])[1:11]\n",
    "    rrlist50 =  eval(row['rr_top100_table_uid'])[11:51]\n",
    "    rrlist100 =  eval(row['rr_top100_table_uid'])[51:]\n",
    "\n",
    "    if gt in rrlist1:\n",
    "        print(index)\n",
    "        print(gt)\n",
    "        print(rrlist1)\n",
    "        print('achei top1')\n",
    "        df.loc[index,'rr_top1_flag'] = True\n",
    "\n",
    "    if gt in rrlist10:\n",
    "        print(index)\n",
    "        print(gt)\n",
    "        print(rrlist10)\n",
    "        print('achei top10')\n",
    "        df.loc[index,'rr_top10_flag'] = True\n",
    "\n",
    "    if gt in rrlist50:\n",
    "        print(index)\n",
    "        print(gt)\n",
    "        print(rrlist50)\n",
    "        print('achei top50')\n",
    "        df.loc[index,'rr_top50_flag'] = True\n",
    "\n",
    "    if gt in rrlist100:\n",
    "        print(index)\n",
    "        print(gt)\n",
    "        print(rrlist100)\n",
    "        print('achei top100')\n",
    "        df.loc[index,'rr_top100_flag'] = True\n",
    "\n",
    "\n"
   ]
  },
  {
   "cell_type": "code",
   "execution_count": 202,
   "metadata": {},
   "outputs": [
    {
     "ename": "KeyError",
     "evalue": "'rr_top1_flag'",
     "output_type": "error",
     "traceback": [
      "\u001b[0;31m---------------------------------------------------------------------------\u001b[0m",
      "\u001b[0;31mKeyError\u001b[0m                                  Traceback (most recent call last)",
      "File \u001b[0;32m/usr/local/lib/python3.8/dist-packages/pandas/core/indexes/base.py:3803\u001b[0m, in \u001b[0;36mIndex.get_loc\u001b[0;34m(self, key, method, tolerance)\u001b[0m\n\u001b[1;32m   3802\u001b[0m \u001b[39mtry\u001b[39;00m:\n\u001b[0;32m-> 3803\u001b[0m     \u001b[39mreturn\u001b[39;00m \u001b[39mself\u001b[39;49m\u001b[39m.\u001b[39;49m_engine\u001b[39m.\u001b[39;49mget_loc(casted_key)\n\u001b[1;32m   3804\u001b[0m \u001b[39mexcept\u001b[39;00m \u001b[39mKeyError\u001b[39;00m \u001b[39mas\u001b[39;00m err:\n",
      "File \u001b[0;32m/usr/local/lib/python3.8/dist-packages/pandas/_libs/index.pyx:138\u001b[0m, in \u001b[0;36mpandas._libs.index.IndexEngine.get_loc\u001b[0;34m()\u001b[0m\n",
      "File \u001b[0;32m/usr/local/lib/python3.8/dist-packages/pandas/_libs/index.pyx:165\u001b[0m, in \u001b[0;36mpandas._libs.index.IndexEngine.get_loc\u001b[0;34m()\u001b[0m\n",
      "File \u001b[0;32mpandas/_libs/hashtable_class_helper.pxi:5745\u001b[0m, in \u001b[0;36mpandas._libs.hashtable.PyObjectHashTable.get_item\u001b[0;34m()\u001b[0m\n",
      "File \u001b[0;32mpandas/_libs/hashtable_class_helper.pxi:5753\u001b[0m, in \u001b[0;36mpandas._libs.hashtable.PyObjectHashTable.get_item\u001b[0;34m()\u001b[0m\n",
      "\u001b[0;31mKeyError\u001b[0m: 'rr_top1_flag'",
      "\nThe above exception was the direct cause of the following exception:\n",
      "\u001b[0;31mKeyError\u001b[0m                                  Traceback (most recent call last)",
      "Cell \u001b[0;32mIn[202], line 1\u001b[0m\n\u001b[0;32m----> 1\u001b[0m \u001b[43mdf\u001b[49m\u001b[43m[\u001b[49m\u001b[38;5;124;43m'\u001b[39;49m\u001b[38;5;124;43mrr_top1_flag\u001b[39;49m\u001b[38;5;124;43m'\u001b[39;49m\u001b[43m]\u001b[49m\u001b[38;5;241m.\u001b[39mvalue_counts()\n",
      "File \u001b[0;32m/usr/local/lib/python3.8/dist-packages/pandas/core/frame.py:3805\u001b[0m, in \u001b[0;36mDataFrame.__getitem__\u001b[0;34m(self, key)\u001b[0m\n\u001b[1;32m   3803\u001b[0m \u001b[39mif\u001b[39;00m \u001b[39mself\u001b[39m\u001b[39m.\u001b[39mcolumns\u001b[39m.\u001b[39mnlevels \u001b[39m>\u001b[39m \u001b[39m1\u001b[39m:\n\u001b[1;32m   3804\u001b[0m     \u001b[39mreturn\u001b[39;00m \u001b[39mself\u001b[39m\u001b[39m.\u001b[39m_getitem_multilevel(key)\n\u001b[0;32m-> 3805\u001b[0m indexer \u001b[39m=\u001b[39m \u001b[39mself\u001b[39;49m\u001b[39m.\u001b[39;49mcolumns\u001b[39m.\u001b[39;49mget_loc(key)\n\u001b[1;32m   3806\u001b[0m \u001b[39mif\u001b[39;00m is_integer(indexer):\n\u001b[1;32m   3807\u001b[0m     indexer \u001b[39m=\u001b[39m [indexer]\n",
      "File \u001b[0;32m/usr/local/lib/python3.8/dist-packages/pandas/core/indexes/base.py:3805\u001b[0m, in \u001b[0;36mIndex.get_loc\u001b[0;34m(self, key, method, tolerance)\u001b[0m\n\u001b[1;32m   3803\u001b[0m     \u001b[39mreturn\u001b[39;00m \u001b[39mself\u001b[39m\u001b[39m.\u001b[39m_engine\u001b[39m.\u001b[39mget_loc(casted_key)\n\u001b[1;32m   3804\u001b[0m \u001b[39mexcept\u001b[39;00m \u001b[39mKeyError\u001b[39;00m \u001b[39mas\u001b[39;00m err:\n\u001b[0;32m-> 3805\u001b[0m     \u001b[39mraise\u001b[39;00m \u001b[39mKeyError\u001b[39;00m(key) \u001b[39mfrom\u001b[39;00m \u001b[39merr\u001b[39;00m\n\u001b[1;32m   3806\u001b[0m \u001b[39mexcept\u001b[39;00m \u001b[39mTypeError\u001b[39;00m:\n\u001b[1;32m   3807\u001b[0m     \u001b[39m# If we have a listlike key, _check_indexing_error will raise\u001b[39;00m\n\u001b[1;32m   3808\u001b[0m     \u001b[39m#  InvalidIndexError. Otherwise we fall through and re-raise\u001b[39;00m\n\u001b[1;32m   3809\u001b[0m     \u001b[39m#  the TypeError.\u001b[39;00m\n\u001b[1;32m   3810\u001b[0m     \u001b[39mself\u001b[39m\u001b[39m.\u001b[39m_check_indexing_error(key)\n",
      "\u001b[0;31mKeyError\u001b[0m: 'rr_top1_flag'"
     ]
    }
   ],
   "source": [
    "df['rr_top1_flag'].value_counts()"
   ]
  },
  {
   "cell_type": "code",
   "execution_count": 197,
   "metadata": {},
   "outputs": [
    {
     "data": {
      "text/plain": [
       "False    1558\n",
       "True      656\n",
       "Name: rr_top10_flag, dtype: int64"
      ]
     },
     "execution_count": 197,
     "metadata": {},
     "output_type": "execute_result"
    }
   ],
   "source": [
    "df['rr_top10_flag'].value_counts()"
   ]
  },
  {
   "cell_type": "code",
   "execution_count": 198,
   "metadata": {},
   "outputs": [
    {
     "data": {
      "text/plain": [
       "False    1772\n",
       "True      442\n",
       "Name: rr_top50_flag, dtype: int64"
      ]
     },
     "execution_count": 198,
     "metadata": {},
     "output_type": "execute_result"
    }
   ],
   "source": [
    "df['rr_top50_flag'].value_counts()"
   ]
  },
  {
   "cell_type": "code",
   "execution_count": 199,
   "metadata": {},
   "outputs": [
    {
     "data": {
      "text/plain": [
       "False    2078\n",
       "True      136\n",
       "Name: rr_top100_flag, dtype: int64"
      ]
     },
     "execution_count": 199,
     "metadata": {},
     "output_type": "execute_result"
    }
   ],
   "source": [
    "df['rr_top100_flag'].value_counts()"
   ]
  },
  {
   "cell_type": "code",
   "execution_count": 200,
   "metadata": {},
   "outputs": [],
   "source": [
    "file = '/data/ott-qa/reranking/improved003/mpnet_table_embeddings_cpu_512_512_corrigido.csv'\n",
    "df.to_csv(file,sep=',',index=False) "
   ]
  },
  {
   "cell_type": "markdown",
   "metadata": {},
   "source": [
    "FIM"
   ]
  },
  {
   "cell_type": "code",
   "execution_count": 47,
   "metadata": {},
   "outputs": [
    {
     "data": {
      "text/plain": [
       "'Jin_Chao-chun_1'"
      ]
     },
     "execution_count": 47,
     "metadata": {},
     "output_type": "execute_result"
    }
   ],
   "source": [
    "eval(lista)[1]"
   ]
  },
  {
   "cell_type": "code",
   "execution_count": 28,
   "metadata": {},
   "outputs": [
    {
     "data": {
      "text/plain": [
       "{'List_of_alumni_and_faculty_of_the_Royal_Melbourne_Institute_of_Technology_16'}"
      ]
     },
     "execution_count": 28,
     "metadata": {},
     "output_type": "execute_result"
    }
   ],
   "source": [
    "gt"
   ]
  },
  {
   "cell_type": "code",
   "execution_count": 17,
   "metadata": {},
   "outputs": [
    {
     "data": {
      "text/plain": [
       "0       ['Alex_Pettyfer_3', 'Jin_Chao-chun_1', 'Ryan_D...\n",
       "1       ['List_of_BTCC_champions_3', '1984_Italian_For...\n",
       "2       ['Jency_Anthony_0', 'Geeta_Kapoor_0', 'Waheed_...\n",
       "3       ['List_of_Malaysian_football_transfers_2014_19...\n",
       "4       ['School_of_mines_1', 'School_of_mines_0', 'Bu...\n",
       "                              ...                        \n",
       "2209    ['2012_in_Brazilian_football_5', 'Zlatan_Musli...\n",
       "2210    ['List_of_ship_launches_in_1944_10', 'List_of_...\n",
       "2211    ['Albania_at_the_2013_Mediterranean_Games_0', ...\n",
       "2212    ['Hong_Kong_at_the_2010_Asian_Games_1', 'Jon_F...\n",
       "2213    ['Adam_Macrow_1', '1978_Trans-Am_Series_0', '1...\n",
       "Name: rr_top100_table_uid, Length: 2214, dtype: object"
      ]
     },
     "execution_count": 17,
     "metadata": {},
     "output_type": "execute_result"
    }
   ],
   "source": [
    "df.columns\n",
    "df['rr_top100_table_uid']#[1:11].tolist()"
   ]
  },
  {
   "cell_type": "code",
   "execution_count": null,
   "metadata": {},
   "outputs": [],
   "source": [
    "df['is_in_top_10'] = df.apply(lambda row: row['table_idx_gt'] in row['rr_top100_table_idx'][1:11].tolist(), axis=1)\n",
    "df['is_in_top_10'].value_counts()"
   ]
  },
  {
   "cell_type": "code",
   "execution_count": 58,
   "metadata": {},
   "outputs": [
    {
     "data": {
      "text/plain": [
       "False    1112\n",
       "True     1102\n",
       "Name: is_in_top_10, dtype: int64"
      ]
     },
     "execution_count": 58,
     "metadata": {},
     "output_type": "execute_result"
    }
   ],
   "source": [
    "df['is_in_top_10'] = df.apply(lambda row: row['table_idx_gt'] in row['rr_top100_table_idx'][1:11].tolist(), axis=1)\n",
    "df['is_in_top_10'].value_counts()\n"
   ]
  },
  {
   "cell_type": "code",
   "execution_count": 59,
   "metadata": {},
   "outputs": [
    {
     "data": {
      "text/plain": [
       "True     1491\n",
       "False     723\n",
       "Name: is_in_top_10, dtype: int64"
      ]
     },
     "execution_count": 59,
     "metadata": {},
     "output_type": "execute_result"
    }
   ],
   "source": [
    "df['is_in_top_10'] = df.apply(lambda row: row['table_idx_gt'] in eval(row['rr_top100_table_idx'][1:51]), axis=1)\n",
    "df['is_in_top_10'].value_counts()"
   ]
  },
  {
   "cell_type": "code",
   "execution_count": null,
   "metadata": {},
   "outputs": [],
   "source": [
    "#df['is_in_top_50'] = df.apply(lambda row: row['table_idx_gt'] in eval(row['rr_top100_table_idx'][1:51]), axis=1)\n",
    "#df['is_in_top_100'] = df.apply(lambda row: row['table_idx_gt'] in eval(row['rr_top100_table_idx']), axis=1)"
   ]
  },
  {
   "cell_type": "code",
   "execution_count": null,
   "metadata": {},
   "outputs": [],
   "source": [
    "#df['is_in_top_50'] = df.apply(lambda row: row['table_idx_gt'] in eval(row['rr_top100_table_idx'][1:51]), axis=1)\n",
    "#df['is_in_top_100'] = df.apply(lambda row: row['table_idx_gt'] in eval(row['rr_top100_table_idx']), axis=1)"
   ]
  },
  {
   "cell_type": "code",
   "execution_count": 52,
   "metadata": {},
   "outputs": [],
   "source": [
    "#rr_top100_table_uid\n",
    "#table_uid_gt\n",
    "df['is_in_top_10'] = df.apply(lambda row: row['table_uid_gt'] in row['rr_top100_table_uid'][1:11], axis=1)\n",
    "#df['is_in_top_50'] = df.apply(lambda row: row['table_uid_gt'] in row['rr_top100_table_uid'][11:51], axis=1)\n",
    "#df['is_in_top_100'] = df.apply(lambda row: row['table_uid_gt'] in row['rr_top100_table_uid'][51:], axis=1)"
   ]
  },
  {
   "cell_type": "code",
   "execution_count": 44,
   "metadata": {},
   "outputs": [
    {
     "data": {
      "text/plain": [
       "False    2180\n",
       "True       34\n",
       "Name: is_in_top_50, dtype: int64"
      ]
     },
     "execution_count": 44,
     "metadata": {},
     "output_type": "execute_result"
    }
   ],
   "source": [
    "df['is_in_top_50'].value_counts()"
   ]
  },
  {
   "cell_type": "code",
   "execution_count": 55,
   "metadata": {},
   "outputs": [
    {
     "data": {
      "text/plain": [
       "False    1112\n",
       "True     1102\n",
       "Name: is_in_top_10, dtype: int64"
      ]
     },
     "execution_count": 55,
     "metadata": {},
     "output_type": "execute_result"
    }
   ],
   "source": [
    "df['is_in_top_10'].value_counts()"
   ]
  },
  {
   "cell_type": "code",
   "execution_count": 46,
   "metadata": {},
   "outputs": [
    {
     "data": {
      "text/plain": [
       "False    1140\n",
       "True     1074\n",
       "Name: is_in_top_100, dtype: int64"
      ]
     },
     "execution_count": 46,
     "metadata": {},
     "output_type": "execute_result"
    }
   ],
   "source": [
    "df['is_in_top_100'].value_counts()"
   ]
  },
  {
   "cell_type": "code",
   "execution_count": 27,
   "metadata": {},
   "outputs": [
    {
     "data": {
      "text/plain": [
       "[8838,\n",
       " 1117,\n",
       " 6335,\n",
       " 4102,\n",
       " 6229,\n",
       " 8714,\n",
       " 8848,\n",
       " 5858,\n",
       " 8493,\n",
       " 1613,\n",
       " 2246,\n",
       " 3798,\n",
       " 2397,\n",
       " 6921,\n",
       " 5666,\n",
       " 7461,\n",
       " 5606,\n",
       " 3983,\n",
       " 4985,\n",
       " 4559,\n",
       " 8626,\n",
       " 5413,\n",
       " 1797,\n",
       " 2322,\n",
       " 313,\n",
       " 2311,\n",
       " 4227,\n",
       " 6558,\n",
       " 4983,\n",
       " 3933,\n",
       " 3697,\n",
       " 5376,\n",
       " 6551,\n",
       " 1853,\n",
       " 440,\n",
       " 3585,\n",
       " 203,\n",
       " 3598,\n",
       " 5378,\n",
       " 8115,\n",
       " 7050,\n",
       " 471,\n",
       " 5221,\n",
       " 3379,\n",
       " 2756,\n",
       " 6681,\n",
       " 3487,\n",
       " 7150,\n",
       " 3176,\n",
       " 775,\n",
       " 5962,\n",
       " 2706,\n",
       " 7512,\n",
       " 2993,\n",
       " 5148,\n",
       " 5404,\n",
       " 2022,\n",
       " 4609,\n",
       " 1095,\n",
       " 3374,\n",
       " 4625,\n",
       " 5716,\n",
       " 5479,\n",
       " 1547,\n",
       " 7639,\n",
       " 3427,\n",
       " 3391,\n",
       " 8597,\n",
       " 2481,\n",
       " 3520,\n",
       " 1421,\n",
       " 1599,\n",
       " 3254,\n",
       " 3055,\n",
       " 1677,\n",
       " 6902,\n",
       " 3328,\n",
       " 5011,\n",
       " 7422,\n",
       " 3448,\n",
       " 3512,\n",
       " 581,\n",
       " 3401,\n",
       " 5498,\n",
       " 4173,\n",
       " 2566,\n",
       " 5309,\n",
       " 7618,\n",
       " 3508,\n",
       " 6889,\n",
       " 2259,\n",
       " 3494,\n",
       " 2032,\n",
       " 1732,\n",
       " 7274,\n",
       " 7828,\n",
       " 7130,\n",
       " 64,\n",
       " 7181,\n",
       " 3089]"
      ]
     },
     "execution_count": 27,
     "metadata": {},
     "output_type": "execute_result"
    }
   ],
   "source": [
    "eval(df['rr_top100_table_idx'][0])"
   ]
  },
  {
   "cell_type": "markdown",
   "metadata": {},
   "source": [
    "arquivo de configuração"
   ]
  },
  {
   "cell_type": "code",
   "execution_count": 2,
   "metadata": {},
   "outputs": [],
   "source": [
    "import json\n",
    "\n",
    "# Seu dicionário\n",
    "data = {\n",
    "        #'retriever_source':      '/data/ott-qa/embeddings/',                    #  base line path\n",
    "        'retriever_source':      '/data/ott-qa/embeddings/improved/',             #  nome das colunas sem caracter especial\n",
    "        #'retriever_destination': '/data/ott-qa/retriever/',                     #  base line path\n",
    "        #'retriever_destination': '/data/ott-qa/retriever/improved001/',          #  nome das colunas sem caracter especial\n",
    "        #'retriever_destination': '/data/ott-qa/retriever/improved002/',         #  aplicado llm nas questions base line path\n",
    "        'retriever_destination': '/data/ott-qa/retriever/improved003/',         #  nome das colunas sem caracter especial e aplicado llm nas questions base line path\n",
    "        #'retriever_destination': '/data/ott-qa/embeddings/retriever/improved001', #   perguntas transformadas em sentencas pelo LLM - REFAZER\n",
    "        #'reranker_roberta_source' : '/data/ott-qa/retriever/',                     # retriever baseline\n",
    "        #'reranker_roberta_source' : '/data/ott-qa/retriever/improved002/',\n",
    "        #'reranker_roberta_destination' : '/data/ott-qa/reranking/',\n",
    "         }\n",
    "\n",
    "# Salvar o dicionário em um arquivo JSON\n",
    "with open('path_to_files.json', 'w') as file:\n",
    "    json.dump(data, file, )"
   ]
  },
  {
   "cell_type": "code",
   "execution_count": 8,
   "metadata": {},
   "outputs": [
    {
     "name": "stdout",
     "output_type": "stream",
     "text": [
      "{'retriever_source': '/data/ott-qa/embeddings/improved/', 'retriever_destination': '/data/ott-qa/retriever/', 'reranker_roberta_destination': '/data/ott-qa/reranking/'}\n"
     ]
    }
   ],
   "source": [
    "# Passo 2: Ler o dicionário de um arquivo\n",
    "with open('path_to_files.json', 'r') as file:\n",
    "    path_to_files = json.load(file)\n",
    "\n",
    "print(path_to_files)"
   ]
  },
  {
   "cell_type": "code",
   "execution_count": 28,
   "metadata": {},
   "outputs": [],
   "source": [
    "from sentence_transformers import CrossEncoder\n",
    "from transformers import AutoConfig"
   ]
  },
  {
   "cell_type": "code",
   "execution_count": 29,
   "metadata": {},
   "outputs": [],
   "source": [
    "diretorio = \"/modelos/reranker/cross-encoder-ms-marco-MiniLM-L-6-v2\"\n",
    "cross_encoder = CrossEncoder(diretorio)\n"
   ]
  },
  {
   "cell_type": "markdown",
   "metadata": {},
   "source": [
    "Output exceeds the size limit. Open the full output data in a text editor\n",
    "BertConfig {\n",
    "  \"_name_or_path\": \"/modelos/reranker/cross-encoder-ms-marco-MiniLM-L-6-v2\",\n",
    "  \"architectures\": [\n",
    "    \"BertForSequenceClassification\"\n",
    "  ],\n",
    "  \"attention_probs_dropout_prob\": 0.1,\n",
    "  \"classifier_dropout\": null,\n",
    "  \"gradient_checkpointing\": false,\n",
    "  \"hidden_act\": \"gelu\",\n",
    "  \"hidden_dropout_prob\": 0.1,\n",
    "  \"hidden_size\": 384,\n",
    "  \"id2label\": {\n",
    "    \"0\": \"LABEL_0\"\n",
    "  },\n",
    "  \"initializer_range\": 0.02,\n",
    "  \"intermediate_size\": 1536,\n",
    "  \"label2id\": {\n",
    "    \"LABEL_0\": 0\n",
    "  },\n",
    "  \"layer_norm_eps\": 1e-12,\n",
    "  \"max_position_embeddings\": 512,\n",
    "  \"model_type\": \"bert\",\n",
    "  \"num_attention_heads\": 12,\n",
    "  \"num_hidden_layers\": 6,\n",
    "  \"pad_token_id\": 0,\n",
    "...\n",
    "  \"transformers_version\": \"4.38.2\",\n",
    "  \"type_vocab_size\": 2,\n",
    "  \"use_cache\": true,\n",
    "  \"vocab_size\": 30522\n",
    "}"
   ]
  },
  {
   "cell_type": "code",
   "execution_count": 37,
   "metadata": {},
   "outputs": [
    {
     "data": {
      "text/plain": [
       "1024"
      ]
     },
     "execution_count": 37,
     "metadata": {},
     "output_type": "execute_result"
    }
   ],
   "source": [
    "#print(cross_encoder.hidden_size)\n",
    "config = cross_encoder.config\n",
    "config.max_position_embeddings = 1024\n",
    "cross_encoder.max_position_embeddings = 1024\n",
    "\n",
    "#cross_encoder = CrossEncoder(config=config)\n",
    "# Carregar o modelo BERT com a nova configuração\n",
    "config = cross_encoder.config\n",
    "config.max_position_embeddings"
   ]
  },
  {
   "cell_type": "markdown",
   "metadata": {},
   "source": [
    "verificando roberta"
   ]
  },
  {
   "cell_type": "code",
   "execution_count": 39,
   "metadata": {},
   "outputs": [],
   "source": [
    "        diretorio = \"/modelos/reranker/cross-encoder-stsb-roberta-base\"\n",
    "        rerank_cross_encoder_model = CrossEncoder(diretorio)"
   ]
  },
  {
   "cell_type": "code",
   "execution_count": 40,
   "metadata": {},
   "outputs": [
    {
     "data": {
      "text/plain": [
       "RobertaConfig {\n",
       "  \"_name_or_path\": \"/modelos/reranker/cross-encoder-stsb-roberta-base\",\n",
       "  \"architectures\": [\n",
       "    \"RobertaForSequenceClassification\"\n",
       "  ],\n",
       "  \"attention_probs_dropout_prob\": 0.1,\n",
       "  \"bos_token_id\": 0,\n",
       "  \"classifier_dropout\": null,\n",
       "  \"eos_token_id\": 2,\n",
       "  \"gradient_checkpointing\": false,\n",
       "  \"hidden_act\": \"gelu\",\n",
       "  \"hidden_dropout_prob\": 0.1,\n",
       "  \"hidden_size\": 768,\n",
       "  \"id2label\": {\n",
       "    \"0\": \"LABEL_0\"\n",
       "  },\n",
       "  \"initializer_range\": 0.02,\n",
       "  \"intermediate_size\": 3072,\n",
       "  \"label2id\": {\n",
       "    \"LABEL_0\": 0\n",
       "  },\n",
       "  \"layer_norm_eps\": 1e-05,\n",
       "  \"max_position_embeddings\": 514,\n",
       "  \"model_type\": \"roberta\",\n",
       "  \"num_attention_heads\": 12,\n",
       "  \"num_hidden_layers\": 12,\n",
       "  \"pad_token_id\": 1,\n",
       "  \"position_embedding_type\": \"absolute\",\n",
       "  \"torch_dtype\": \"float32\",\n",
       "  \"transformers_version\": \"4.38.2\",\n",
       "  \"type_vocab_size\": 1,\n",
       "  \"use_cache\": true,\n",
       "  \"vocab_size\": 50265\n",
       "}"
      ]
     },
     "execution_count": 40,
     "metadata": {},
     "output_type": "execute_result"
    }
   ],
   "source": [
    "rerank_cross_encoder_model.config"
   ]
  },
  {
   "cell_type": "code",
   "execution_count": null,
   "metadata": {},
   "outputs": [],
   "source": [
    "#print(cross_encoder.hidden_size)\n",
    "config = cross_encoder.config\n",
    "config.max_position_embeddings = 1024\n",
    "cross_encoder.max_position_embeddings = 1024\n",
    "\n",
    "#cross_encoder = CrossEncoder(config=config)\n",
    "# Carregar o modelo BERT com a nova configuração\n",
    "config = cross_encoder.config\n",
    "config.max_position_embeddings"
   ]
  }
 ],
 "metadata": {
  "kernelspec": {
   "display_name": "Python 3.8.10 64-bit",
   "language": "python",
   "name": "python3"
  },
  "language_info": {
   "codemirror_mode": {
    "name": "ipython",
    "version": 3
   },
   "file_extension": ".py",
   "mimetype": "text/x-python",
   "name": "python",
   "nbconvert_exporter": "python",
   "pygments_lexer": "ipython3",
   "version": "3.8.10"
  },
  "orig_nbformat": 4,
  "vscode": {
   "interpreter": {
    "hash": "916dbcbb3f70747c44a77c7bcd40155683ae19c65e1c03b4aa3499c5328201f1"
   }
  }
 },
 "nbformat": 4,
 "nbformat_minor": 2
}

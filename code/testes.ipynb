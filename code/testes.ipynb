{
 "cells": [
  {
   "cell_type": "code",
   "execution_count": 2,
   "metadata": {},
   "outputs": [],
   "source": [
    "embeddings: baseline\n",
    "embeddings/improved: nome das colunas sem caracter especial\n",
    "\n",
    "\n",
    "path_to_files = {\n",
    "\n",
    "'retriever_source':      '/data/ott-qa/embeddings/',                    #  base line path\n",
    "'retriever_source':      '/data/ott-qa/embeddings/improved/',           #  nome das colunas sem caracter especial\n",
    "'retriever_destination': '/data/ott-qa/retriever/',                     #  base line path\n",
    "'retriever_destination': '/data/ott-qa/retriever/improved003/',         #  nome das colunas sem caracter especial e aplicado llm nas questions base line path\n",
    "\n",
    "'retriever_imp_001': '/data/ott-qa/embeddings/retriever/improved001', #   perguntas transformadas em sentencas pelo LLM - REFAZER\n",
    "\n",
    "'reranker' : '/data/ott-qa/embeddings/reranker/' }"
   ]
  },
  {
   "cell_type": "code",
   "execution_count": 3,
   "metadata": {},
   "outputs": [
    {
     "data": {
      "text/plain": [
       "'/data/ott-qa/embeddings/retriever/'"
      ]
     },
     "execution_count": 3,
     "metadata": {},
     "output_type": "execute_result"
    }
   ],
   "source": [
    "path_to_files['retriever']"
   ]
  }
 ],
 "metadata": {
  "kernelspec": {
   "display_name": "Python 3.8.10 64-bit",
   "language": "python",
   "name": "python3"
  },
  "language_info": {
   "codemirror_mode": {
    "name": "ipython",
    "version": 3
   },
   "file_extension": ".py",
   "mimetype": "text/x-python",
   "name": "python",
   "nbconvert_exporter": "python",
   "pygments_lexer": "ipython3",
   "version": "3.8.10"
  },
  "orig_nbformat": 4,
  "vscode": {
   "interpreter": {
    "hash": "916dbcbb3f70747c44a77c7bcd40155683ae19c65e1c03b4aa3499c5328201f1"
   }
  }
 },
 "nbformat": 4,
 "nbformat_minor": 2
}
